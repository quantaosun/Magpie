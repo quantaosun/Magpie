{
  "nbformat": 4,
  "nbformat_minor": 0,
  "metadata": {
    "colab": {
      "name": "Magpie.ipynb",
      "private_outputs": true,
      "provenance": [],
      "collapsed_sections": [],
      "background_execution": "on",
      "authorship_tag": "ABX9TyO4t3zcMNGjREZHEFABip+3",
      "include_colab_link": true
    },
    "kernelspec": {
      "name": "python3",
      "display_name": "Python 3"
    },
    "language_info": {
      "name": "python"
    },
    "accelerator": "GPU",
    "gpuClass": "standard"
  },
  "cells": [
    {
      "cell_type": "markdown",
      "metadata": {
        "id": "view-in-github",
        "colab_type": "text"
      },
      "source": [
        "<a href=\"https://colab.research.google.com/github/quantaosun/Magpie/blob/main/Magpie.ipynb\" target=\"_parent\"><img src=\"https://colab.research.google.com/assets/colab-badge.svg\" alt=\"Open In Colab\"/></a>"
      ]
    },
    {
      "cell_type": "markdown",
      "source": [
        "## Standard binding free energy calculation with OpenMM via Protein-ligand Alchemical Transformation Simulation."
      ],
      "metadata": {
        "id": "C4sWUn9Su42v"
      }
    },
    {
      "cell_type": "markdown",
      "source": [
        "## Credits\n",
        "\n",
        "*   This notebook relies on the AToM-OpenMM plugin developed by Gallicchio-Lab (https://github.com/Gallicchio-Lab/AToM-OpenMM)\n",
        "\n",
        "*   This notebook relies on OpenMM as the back-end simulation engine. (https://openmm.org/)\n",
        "\n",
        "*  The input files for this notebook are processed by the Making-it-rain. (https://github.com/pablo-arantes/Making-it-rain)\n",
        "* Openbabel and Ambertools.(https://ambermd.org/AmberTools.php; http://openbabel.org/wiki/Main_Page)\n",
        "*  Analysis relies on UWHAM package in R.(https://github.com/patvarilly/uwham;   \n",
        "https://www.r-project.org/)\n",
        "\n",
        "* Conda open source package management system. (https://docs.conda.io/en/latest/)\n",
        "\n",
        "\n",
        "\n"
      ],
      "metadata": {
        "id": "kUYsP4-6S6o2"
      }
    },
    {
      "cell_type": "markdown",
      "source": [
        "\n",
        "#### ⚠️Run all commands in the terminal, with this notebook as reference⚠️\n",
        "\n",
        "The notebook is under development, there might be some bugs stopping the simulation."
      ],
      "metadata": {
        "id": "XB9Yd0SVXXJc"
      }
    },
    {
      "cell_type": "markdown",
      "source": [
        "## Why use this?\n",
        "\n",
        "1. **GOOD accuracy.** The theory behind this calculation is solid, see reference for more.\n",
        "\n",
        "2. **EASY to operate.** You don't have to buy or install anything on your local computer.\n",
        "\n",
        "3. **REASONABLE time.** A ΔG value for one protein-ligand needs around 12-24 hours. \n",
        "\n",
        "\n",
        "\n",
        "\n",
        "\n"
      ],
      "metadata": {
        "id": "ZdHoMH6pWJat"
      }
    },
    {
      "cell_type": "code",
      "source": [
        "#@title Import drive\n",
        "from google.colab import drive\n",
        "drive.flush_and_unmount\n",
        "drive.mount('/content/drive',force_remount=True)"
      ],
      "metadata": {
        "id": "Zv2MFwujN-Nh",
        "cellView": "form"
      },
      "execution_count": null,
      "outputs": []
    },
    {
      "cell_type": "code",
      "source": [
        "#@title Install conda 3.7\n",
        "! wget https://repo.anaconda.com/miniconda/Miniconda3-py37_4.12.0-Linux-x86_64.sh\n",
        "! chmod +x https://repo.anaconda.com/miniconda/Miniconda3-py37_4.12.0-Linux-x86_64.sh\n",
        "! bash ./Miniconda3-py37_4.12.0-Linux-x86_64.sh -b -f -p /root/miniconda3 2>&1 1>/dev/null"
      ],
      "metadata": {
        "id": "gTKzbopnnqrF"
      },
      "execution_count": null,
      "outputs": []
    },
    {
      "cell_type": "code",
      "source": [
        "#@title Install dependencies\n",
        "%%bash\n",
        "export PATH=/root/miniconda3/bin:$PATH\n",
        "conda init\n",
        "source ~/.bashrc\n",
        "conda install -c anaconda configobj -y\n",
        "conda install -c conda-forge openbabel -y\n",
        "conda install -c conda-forge ambertools\n",
        "#@title  Install vim\n",
        "!apt-get install vim 2>&1 1>/dev/null"
      ],
      "metadata": {
        "id": "244x5HCFpSMu"
      },
      "execution_count": null,
      "outputs": []
    },
    {
      "cell_type": "code",
      "source": [
        "#@title Install the AToM software\n",
        "%%bash\n",
        "conda install -c omnia openmm -y\n",
        "conda install -c conda-forge openmm-atmmetaforce-plugin -y\n",
        "git clone https://github.com/Gallicchio-Lab/AToM-OpenMM.git\n",
        "cd AToM-OpenMM\n",
        "python setup.py install"
      ],
      "metadata": {
        "id": "nSPUNFzNKjRo"
      },
      "execution_count": null,
      "outputs": []
    },
    {
      "cell_type": "markdown",
      "source": [
        "### Setup input files\n",
        "\n",
        "It is highly recommended to use making-it-rain to generate your ligand.mol2 and receptor (SYS_nw.pdb) file, then process and rename these two files.\n"
      ],
      "metadata": {
        "id": "9xZyI-GSupMV"
      }
    },
    {
      "cell_type": "code",
      "source": [
        "#@title Run this in terminal\n",
        "%%bash\n",
        "mv ligands ligands_old\n",
        "mv receptor receptor_old\n",
        "mdkir ligands receptor\n",
        "cp ligand.mol2 ligands/\n",
        "cp SYS_nw.pdb receptor/\n",
        "cd receptor/\n",
        "grep -v LIG SYS_nw.pdb > fkbp.pdb\n",
        "rm SYS_nw.pdb"
      ],
      "metadata": {
        "id": "F9EkThPm8Fd6"
      },
      "execution_count": null,
      "outputs": []
    },
    {
      "cell_type": "markdown",
      "source": [
        "### Scripts setup"
      ],
      "metadata": {
        "id": "N6JIqurMHpdb"
      }
    },
    {
      "cell_type": "code",
      "source": [
        "!cp scripts/setup-atm.sh ."
      ],
      "metadata": {
        "id": "u-vBWmDnv8qP"
      },
      "execution_count": null,
      "outputs": []
    },
    {
      "cell_type": "code",
      "source": [
        "bash ./scripts/setup-atm.sh"
      ],
      "metadata": {
        "id": "u3sFQQePCK2i"
      },
      "execution_count": null,
      "outputs": []
    },
    {
      "cell_type": "code",
      "source": [
        "bash ./setup-atm.sh"
      ],
      "metadata": {
        "id": "_QFfxxkPDFQX"
      },
      "execution_count": null,
      "outputs": []
    },
    {
      "cell_type": "markdown",
      "source": [
        "### Minimization,npt,equilibration"
      ],
      "metadata": {
        "id": "l7JlAx7tHvf8"
      }
    },
    {
      "cell_type": "code",
      "source": [
        "#there is an error"
      ],
      "metadata": {
        "id": "34KDc8dvD2Gj"
      },
      "execution_count": null,
      "outputs": []
    },
    {
      "cell_type": "code",
      "source": [
        "cd AToM-OpenMM/examples/ABFE/fkbp/complexes/fkbp-thi"
      ],
      "metadata": {
        "id": "fvm2VsAtGOIx"
      },
      "execution_count": null,
      "outputs": []
    },
    {
      "cell_type": "code",
      "source": [
        "python fkbp-thi_mintherm.py "
      ],
      "metadata": {
        "id": "KITJWu2F8g9X"
      },
      "execution_count": null,
      "outputs": []
    },
    {
      "cell_type": "code",
      "source": [
        "python fkbp-thi_equil.py "
      ],
      "metadata": {
        "id": "ihWXtzfPHLhQ"
      },
      "execution_count": null,
      "outputs": []
    },
    {
      "cell_type": "markdown",
      "source": [
        "### Intermediate lambda simulation"
      ],
      "metadata": {
        "id": "akAuPob6H2Ri"
      }
    },
    {
      "cell_type": "code",
      "source": [
        "python fkbp-thi_mdlambda.py"
      ],
      "metadata": {
        "id": "OZnOZxGsHRGK"
      },
      "execution_count": null,
      "outputs": []
    },
    {
      "cell_type": "markdown",
      "source": [
        "### Sampling "
      ],
      "metadata": {
        "id": "qWZ0MUvKH8Ly"
      }
    },
    {
      "cell_type": "code",
      "source": [
        "!python /content/AToM-OpenMM/abfe_explicit.py fkbp-thi_asyncre.cntl"
      ],
      "metadata": {
        "id": "sHug9XxPNeCw"
      },
      "execution_count": null,
      "outputs": []
    },
    {
      "cell_type": "markdown",
      "source": [
        "### Analysis"
      ],
      "metadata": {
        "id": "I_WVitY5KplG"
      }
    },
    {
      "cell_type": "code",
      "source": [
        "%cd /content/AToM-OpenMM/examples/ABFE/fkbp/complexes/fkbp-thi"
      ],
      "metadata": {
        "id": "Z9_-Kef1stEv"
      },
      "execution_count": null,
      "outputs": []
    },
    {
      "cell_type": "code",
      "source": [
        "# activate R magic\n",
        "%load_ext rpy2.ipython"
      ],
      "metadata": {
        "id": "Q-Vy6aTdsoaE"
      },
      "execution_count": null,
      "outputs": []
    },
    {
      "cell_type": "code",
      "source": [
        "%%R\n",
        "install.packages(\"UWHAM\")"
      ],
      "metadata": {
        "id": "lgh35jPkL6yE"
      },
      "execution_count": null,
      "outputs": []
    },
    {
      "cell_type": "code",
      "source": [
        "!bash ./analyze.sh"
      ],
      "metadata": {
        "id": "Ss7Z1na4Rq5I"
      },
      "execution_count": null,
      "outputs": []
    },
    {
      "cell_type": "markdown",
      "source": [
        "## References\n",
        "1.  J. Chem. Inf. Model. 2022, 62, 2, 309–323\n",
        "Publication Date:January 6, 2022\n",
        "https://doi.org/10.1021/acs.jcim.1c01129\n",
        "\n",
        "2.   . Chem. Theory Comput. 2021, 17, 6, 3309–3319\n",
        "Publication Date:May 13, 2021\n",
        "https://doi.org/10.1021/acs.jctc.1c00266\n",
        "3.  Asynchronous Replica Exchange Software for Grid and Heterogeneous Computing https://doi.org/10.1016/j.cpc.2015.06.010 \n",
        " \n"
      ],
      "metadata": {
        "id": "v4qGvBAeqDoG"
      }
    },
    {
      "cell_type": "code",
      "source": [
        "while True:pass"
      ],
      "metadata": {
        "id": "msy6dP-_DOgY"
      },
      "execution_count": null,
      "outputs": []
    }
  ]
}